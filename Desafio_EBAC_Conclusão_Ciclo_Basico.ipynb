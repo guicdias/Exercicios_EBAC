{
  "nbformat": 4,
  "nbformat_minor": 0,
  "metadata": {
    "colab": {
      "provenance": [],
      "authorship_tag": "ABX9TyOrUdyEDNB2aPtxitUZ3kPI",
      "include_colab_link": true
    },
    "kernelspec": {
      "name": "python3",
      "display_name": "Python 3"
    },
    "language_info": {
      "name": "python"
    }
  },
  "cells": [
    {
      "cell_type": "markdown",
      "metadata": {
        "id": "view-in-github",
        "colab_type": "text"
      },
      "source": [
        "<a href=\"https://colab.research.google.com/github/guicdias/Exercicios_EBAC/blob/main/Desafio_EBAC_Conclus%C3%A3o_Ciclo_Basico.ipynb\" target=\"_parent\"><img src=\"https://colab.research.google.com/assets/colab-badge.svg\" alt=\"Open In Colab\"/></a>"
      ]
    },
    {
      "cell_type": "markdown",
      "source": [
        "<img src=\"https://raw.githubusercontent.com/andre-marcos-perez/ebac-course-utils/main/media/logo/newebac_logo_black_half.png\" alt=\"ebac-logo\">\n",
        "\n",
        "---\n",
        "\n",
        "# **Módulo** | Supere o desafio\n",
        "Caderno de **Exercício**<br>\n",
        "Professor [André Perez](https://www.linkedin.com/in/andremarcosperez/)\n",
        "\n",
        "---\n",
        "**Supere o desafio**\n",
        "\n",
        "Chegou o momento de você se superar! Você está finalizando o quarto módulo, por esse motivo, seus conhecimentos adquiridos até aqui equivalem ao nível básico de Python.\n",
        "\n",
        "---\n",
        "\n",
        "**Desafio:**\n",
        "\n",
        "Faça um programa que calcule o valor total investido por um colecionador em sua coleção de CDs e o valor médio gasto em cada um deles. O usuário deverá informar a quantidade de CDs e o valor para cada um.\n",
        "\n",
        "Lembre-se de que você já tem a habilidade de desenvolver variáveis, estruturar dados, criar condições, repetições e funções.\n",
        "\n",
        "Após resolver o desafio, preencha o checklist a seguir."
      ],
      "metadata": {
        "id": "eb1nnHOTEHBy"
      }
    },
    {
      "cell_type": "code",
      "source": [
        "#introdução com input do nome da pessoa\n",
        "nome = str(input('Bem-vindo(a) a calculadora de valor investido, por favor digite o seu nome: '))\n",
        "print('Olá '+ nome +', vamos calcular o valor investido em sua coleção de CDs')"
      ],
      "metadata": {
        "colab": {
          "base_uri": "https://localhost:8080/"
        },
        "id": "NPmMhlaPEnmh",
        "outputId": "5de28e81-b41c-4e47-93e0-610a619d3de6"
      },
      "execution_count": 1,
      "outputs": [
        {
          "output_type": "stream",
          "name": "stdout",
          "text": [
            "Bem-vindo(a) a calculadora de valor investido, por favor digite o seu nome: Guilherme\n",
            "Olá Guilherme, vamos calcular o valor investido em sua coleção de CDs\n"
          ]
        }
      ]
    },
    {
      "cell_type": "code",
      "source": [
        "#input da quantidade de cds e o preço de cada um\n",
        "colecao_cds = int(input('Por favor, digite a quantidade de cds: '))\n",
        "valor = 0\n",
        "for i in range(colecao_cds):\n",
        "  valor += float(input(f'Agora digite o preço do cd {i+1}: '))\n",
        "print(f'A sua coleção de cds tem o valor total de: R${valor:.2f}\\nA média de custo por cd da sua coleção é: R${valor/colecao_cds:.2f}')"
      ],
      "metadata": {
        "colab": {
          "base_uri": "https://localhost:8080/"
        },
        "id": "EFRuWNvuK_1w",
        "outputId": "b55dfe19-7e98-4e94-8c20-6e12fcd899ff"
      },
      "execution_count": 2,
      "outputs": [
        {
          "output_type": "stream",
          "name": "stdout",
          "text": [
            "Por favor, digite a quantidade de cds: 3\n",
            "Agora digite o preço do cd 1: 18.90\n",
            "Agora digite o preço do cd 2: 25.50\n",
            "Agora digite o preço do cd 3: 30.00\n",
            "A sua coleção de cds tem o valor total de: R$74.40\n",
            "A média de custo por cd da sua coleção é: R$24.80\n"
          ]
        }
      ]
    },
    {
      "cell_type": "code",
      "source": [
        "#código todo junto\n",
        "nome = str(input('Bem-vindo(a) a calculadora de valor investido, por favor digite o seu nome: '))\n",
        "print('\\n')\n",
        "print('Olá '+ nome +', vamos calcular o valor investido em sua coleção de CDs\\n')\n",
        "colecao_cds = int(input('Por favor, digite a quantidade de cds: '))\n",
        "valor = 0\n",
        "for i in range(colecao_cds):\n",
        "  valor += float(input(f'Agora digite o preço do cd {i+1}: '))\n",
        "print(f'A sua coleção de cds tem o valor total de: R${valor:.2f}\\nA média de custo por cd da sua coleção é: R${valor/colecao_cds:.2f}')\n"
      ],
      "metadata": {
        "colab": {
          "base_uri": "https://localhost:8080/"
        },
        "id": "hk8lttilNjP3",
        "outputId": "8241cf8a-f62b-470a-bc8f-04014fe94706"
      },
      "execution_count": 3,
      "outputs": [
        {
          "output_type": "stream",
          "name": "stdout",
          "text": [
            "Bem-vindo(a) a calculadora de valor investido, por favor digite o seu nome: Guilherme\n",
            "\n",
            "\n",
            "Olá Guilherme, vamos calcular o valor investido em sua coleção de CDs\n",
            "\n",
            "Por favor, digite a quantidade de cds: 3\n",
            "Agora digite o preço do cd 1: 18.90\n",
            "Agora digite o preço do cd 2: 25.50\n",
            "Agora digite o preço do cd 3: 30.00\n",
            "A sua coleção de cds tem o valor total de: R$74.40\n",
            "A média de custo por cd da sua coleção é: R$24.80\n"
          ]
        }
      ]
    }
  ]
}